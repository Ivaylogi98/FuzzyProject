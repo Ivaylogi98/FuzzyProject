{
 "cells": [
  {
   "cell_type": "markdown",
   "metadata": {},
   "source": [
    "# Проект по Размити множества и проложения"
   ]
  },
  {
   "cell_type": "code",
   "execution_count": null,
   "metadata": {},
   "outputs": [],
   "source": [
    "import pandas as pd\n",
    "import numpy as np\n",
    "import os.path\n",
    "from sklearn.model_selection import train_test_split\n",
    "from sklearn import preprocessing"
   ]
  },
  {
   "cell_type": "markdown",
   "metadata": {},
   "source": [
    "## Параметри:"
   ]
  },
  {
   "cell_type": "code",
   "execution_count": null,
   "metadata": {},
   "outputs": [],
   "source": [
    "reloadData = False"
   ]
  },
  {
   "cell_type": "markdown",
   "metadata": {},
   "source": [
    "## База данни"
   ]
  },
  {
   "cell_type": "code",
   "execution_count": null,
   "metadata": {},
   "outputs": [],
   "source": [
    "if reloadData or not os.path.isfile('Datasets/Gas/GasArrayDF.npy'):\n",
    "    df1  = np.array(pd.read_csv('Datasets/Gas/batch1.dat', sep=' |:', header=None, engine='python'))[:, ::2]\n",
    "    df2  = np.array(pd.read_csv('Datasets/Gas/batch2.dat', sep=' |:', header=None, engine='python'))[:, ::2]\n",
    "    df3  = np.array(pd.read_csv('Datasets/Gas/batch3.dat', sep=' |:', header=None, engine='python'))[:, ::2]\n",
    "    df4  = np.array(pd.read_csv('Datasets/Gas/batch4.dat', sep=' |:', header=None, engine='python'))[:, ::2]\n",
    "    df5  = np.array(pd.read_csv('Datasets/Gas/batch5.dat', sep=' |:', header=None, engine='python'))[:, ::2]\n",
    "    df6  = np.array(pd.read_csv('Datasets/Gas/batch6.dat', sep=' |:', header=None, engine='python'))[:, ::2]\n",
    "    df7  = np.array(pd.read_csv('Datasets/Gas/batch7.dat', sep=' |:', header=None, engine='python'))[:, ::2]\n",
    "    df8  = np.array(pd.read_csv('Datasets/Gas/batch8.dat', sep=' |:', header=None, engine='python'))[:, ::2]\n",
    "    df9  = np.array(pd.read_csv('Datasets/Gas/batch9.dat', sep=' |:', header=None, engine='python'))[:, ::2]\n",
    "    df10 = np.array(pd.read_csv('Datasets/Gas/batch10.dat',sep=' |:', header=None, engine='python'))[:, ::2]\n",
    "    df = np.vstack([df1, df2, df3, df4, df5, df6, df7, df8, df9, df10])\n",
    "    with open('Datasets/Gas/GasArrayDF.npy', 'wb') as f:\n",
    "        np.save(f, df)\n",
    "else:\n",
    "    with open('Datasets/Gas/GasArrayDF.npy', 'rb') as f:\n",
    "        df = np.load(f)"
   ]
  },
  {
   "cell_type": "code",
   "execution_count": null,
   "metadata": {},
   "outputs": [],
   "source": [
    "df[:,1:] = preprocessing.normalize(df[:,1:])"
   ]
  },
  {
   "cell_type": "markdown",
   "metadata": {},
   "source": [
    "## Създаване на модел"
   ]
  },
  {
   "cell_type": "code",
   "execution_count": null,
   "metadata": {},
   "outputs": [],
   "source": [
    "from collections import Counter\n",
    "\n",
    "class KNNClassifier:\n",
    "    def __init__(self, k=1, verbose=False):\n",
    "        self.k = k\n",
    "        self.verbose = verbose\n",
    "\n",
    "    def fit(self, X_train, y_train):\n",
    "        self.X_train = X_train\n",
    "        self.y_train = y_train\n",
    "        self.num_classes = len(set(self.y_train))\n",
    "\n",
    "    def predict(self, X_test):\n",
    "        y_pred = []\n",
    "        for i, row in enumerate(X_test):\n",
    "            label = self.predict_strategy(row)\n",
    "            y_pred.append(label)\n",
    "            if i % int(len(X_test)/10) == 0: print('.', end=' ')\n",
    "        return y_pred\n",
    "\n",
    "    def predict_strategy(self, predict_row):\n",
    "        nearest_k = []\n",
    "        for neighbour, neighbour_label in zip(self.X_train, self.y_train):\n",
    "            distance = self.distance(predict_row, neighbour)\n",
    "            nearest_k.append((neighbour_label, distance))\n",
    "        nearest_k = sorted(nearest_k, key=lambda x: x[1])[:self.k]\n",
    "        if self.verbose == True: print(nearest_k[0][0], Counter(list(zip(*nearest_k))[0]).most_common(6))\n",
    "        return Counter(list(zip(*nearest_k))[0]).most_common(6)[0][0], Counter(list(zip(*nearest_k))[0]).most_common(6)\n",
    "\n",
    "        # ~~~~~ RETURN CLOSEST NEIGHBOUR ~~~~~\n",
    "        # best_dist = np.inf\n",
    "        # best_index = None\n",
    "        # for i in range(len(self.X_train)):\n",
    "        #     dist = self.distance(row, self.X_train[i])\n",
    "        #     if dist < best_dist:\n",
    "        #         best_dist = dist\n",
    "        #         best_index = i\n",
    "        # return self.y_train[best_index]\n",
    "\n",
    "    def distance(self, a, b):\n",
    "        return np.linalg.norm(a - b)"
   ]
  },
  {
   "cell_type": "code",
   "execution_count": null,
   "metadata": {},
   "outputs": [],
   "source": [
    "class FuzzyKNNClassifier(KNNClassifier):\n",
    "    def __init__(self, k=1, m=2, verbose=False):\n",
    "        super().__init__(k, verbose)\n",
    "        self.m = m\n",
    "\n",
    "    def predict_strategy(self, row):\n",
    "        #find the k nearest neighbours\n",
    "        distances_to_all = [ (self.distance(row, neighbour), label) for neighbour, label in zip(self.X_train, self.y_train)]\n",
    "        nearest_k = distances_to_all[:self.k]\n",
    "        if self.verbose: print(nearest_k[0], nearest_k[-1])\n",
    "\n",
    "        # compute membership values of row for each class\n",
    "        result = {}\n",
    "        denominator = sum([1 / (neighbour[0] ** (2/(self.m-1))) for neighbour in nearest_k])\n",
    "        if self.verbose: print('denom:\\n', denominator)\n",
    "        for cl in range(1, self.num_classes+1):\n",
    "            class_membership_sum = sum([1 / (neighbour[0] ** (2/(self.m-1))) for neighbour in nearest_k if neighbour[1] == cl])\n",
    "            result[cl] = class_membership_sum / denominator\n",
    "        if self.verbose: print('result:\\n', result)\n",
    "\n",
    "        # defuzzify answer\n",
    "        defuzzified_result = max(result, key=result.get)\n",
    "        if self.verbose: print('defuzzyfied:\\n', defuzzified_result)\n",
    "\n",
    "        return defuzzified_result, result\n"
   ]
  },
  {
   "cell_type": "markdown",
   "metadata": {},
   "source": [
    "## Класифициране"
   ]
  },
  {
   "cell_type": "code",
   "execution_count": null,
   "metadata": {},
   "outputs": [],
   "source": [
    "X_train, X_test, y_train, y_test = train_test_split(df[:, 1:], df[:, 0], test_size=0.1, random_state=1)"
   ]
  },
  {
   "cell_type": "code",
   "execution_count": null,
   "metadata": {},
   "outputs": [],
   "source": [
    "for k in [100, 200, 250]:\n",
    "    clf = KNNClassifier(k=k, verbose=True)\n",
    "\n",
    "    print(f'Computing for k={k}: ', end='')\n",
    "    clf.fit(X_train, y_train)\n",
    "    y_pred = clf.predict(X_test)\n",
    "\n",
    "    correct_percentage = sum(np.array(list(zip(*y_pred))[0]) == y_test)/len(y_test)\n",
    "    wrong_answers = [(n, ':', i, '!=', j[0], ' full: ', j[1]) for n, i, j in zip(range(len(y_test)), y_test, y_pred) if i != j[0]]\n",
    "\n",
    "    print(f' Saving results -> ', end='')\n",
    "    with open(f'output/normal_results_k={k}_rand=1.txt', 'w+') as f:\n",
    "        f.writelines(str(correct_percentage))\n",
    "        f.write('\\n'.join(str(x) for x in wrong_answers))\n",
    "    print(f'Saved results ')\n"
   ]
  },
  {
   "cell_type": "code",
   "execution_count": null,
   "metadata": {},
   "outputs": [],
   "source": [
    "correct_percentage = sum(np.array(list(zip(*y_pred))[0]) == y_test)/len(y_test)\n",
    "wrong_answers = [(n, ':', i, '!=', j[0], ' full: ', j[1]) for n, i, j in zip(range(len(y_test)), y_test, y_pred) if i != j[0]]"
   ]
  },
  {
   "cell_type": "code",
   "execution_count": null,
   "metadata": {},
   "outputs": [],
   "source": [
    "print(correct_percentage)\n",
    "# print(wrong_answers)\n",
    "for i in wrong_answers:\n",
    "    print(i)"
   ]
  },
  {
   "cell_type": "code",
   "execution_count": null,
   "metadata": {},
   "outputs": [],
   "source": [
    "for k in [1250, 1500, 2000]:\n",
    "    for m in [1.1, 1.2, 1.4]:\n",
    "        clf = FuzzyKNNClassifier(k=k, m=m, verbose=False)\n",
    "\n",
    "        print(f'Computing for k={k} and m={m}: ', end='')\n",
    "        clf.fit(X_train, y_train)\n",
    "        y_pred = clf.predict(X_test)\n",
    "\n",
    "        fuzzy_correct_percentage = sum(np.array(list(zip(*y_pred))[0]) == y_test)/len(y_test)\n",
    "        fuzzy_wrong_answers = [(n, ':', i, '!=', j[0], ' full: ', j[1]) for n, i, j in zip(range(len(y_test)), y_test, y_pred) if i != j[0]]\n",
    "        \n",
    "        print(f' Saving results -> ', end='')\n",
    "        with open(f'output/fuzzy_results_k={k}_m={m}_rand=1.txt', 'w+') as f:\n",
    "            f.writelines(str(fuzzy_correct_percentage))\n",
    "            f.write('\\n'.join(str(x) for x in fuzzy_wrong_answers))\n",
    "        print(f'Saved results ')\n"
   ]
  }
 ],
 "metadata": {
  "interpreter": {
   "hash": "70d61cfc481e52c0daf049c2380fc8fd7db036727e0f561d21311c7b5145dc55"
  },
  "kernelspec": {
   "display_name": "Python 3.10.0 64-bit ('venv': venv)",
   "language": "python",
   "name": "python3"
  },
  "language_info": {
   "codemirror_mode": {
    "name": "ipython",
    "version": 3
   },
   "file_extension": ".py",
   "mimetype": "text/x-python",
   "name": "python",
   "nbconvert_exporter": "python",
   "pygments_lexer": "ipython3",
   "version": "3.10.0"
  },
  "orig_nbformat": 4
 },
 "nbformat": 4,
 "nbformat_minor": 2
}
